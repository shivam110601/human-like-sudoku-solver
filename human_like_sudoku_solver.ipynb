{
  "nbformat": 4,
  "nbformat_minor": 0,
  "metadata": {
    "colab": {
      "provenance": [],
      "authorship_tag": "ABX9TyM1MDhXQJ9omdcjLPtALMgM",
      "include_colab_link": true
    },
    "kernelspec": {
      "name": "python3",
      "display_name": "Python 3"
    },
    "language_info": {
      "name": "python"
    }
  },
  "cells": [
    {
      "cell_type": "markdown",
      "metadata": {
        "id": "view-in-github",
        "colab_type": "text"
      },
      "source": [
        "<a href=\"https://colab.research.google.com/github/shivam110601/human-like-sudoku-solver/blob/main/human_like_sudoku_solver.ipynb\" target=\"_parent\"><img src=\"https://colab.research.google.com/assets/colab-badge.svg\" alt=\"Open In Colab\"/></a>"
      ]
    },
    {
      "cell_type": "code",
      "source": [
        "import time\n",
        "import numpy as np"
      ],
      "metadata": {
        "id": "Pz-21vygo9zM"
      },
      "execution_count": 8,
      "outputs": []
    },
    {
      "cell_type": "code",
      "source": [
        "def is_valid(board, row, col, num):\n",
        "    # Check if the number is already in the row, column, or 3x3 cell group\n",
        "    if num in board[row, :] or num in board[:, col] or num in board[row//3*3:row//3*3+3, col//3*3:col//3*3+3]:\n",
        "        return False\n",
        "    return True\n",
        "\n",
        "def find_unfilled(board):\n",
        "    # Find an unfilled cell in the board\n",
        "    for i in range(9):\n",
        "        for j in range(9):\n",
        "            if board[i, j] == 0:\n",
        "                return i, j\n",
        "    return None, None\n",
        "\n",
        "def solve_sudoku(board):\n",
        "    start_time = time.time()\n",
        "    while True:\n",
        "        progress = False\n",
        "        for i in range(3):\n",
        "            for j in range(3):\n",
        "                cell_group = board[i*3:(i+1)*3, j*3:(j+1)*3]\n",
        "                unfilled_cells = [(x, y) for x in range(i*3, (i+1)*3) for y in range(j*3, (j+1)*3) if board[x, y] == 0]\n",
        "                unfilled_numbers = set(range(1, 10)) - set(cell_group.flatten())\n",
        "\n",
        "                for number in unfilled_numbers:\n",
        "                    possible_positions = []\n",
        "                    for x, y in unfilled_cells:\n",
        "                        if is_valid(board, x, y, number):\n",
        "                            possible_positions.append((x, y))\n",
        "\n",
        "                    if len(possible_positions) == 1:\n",
        "                        board[possible_positions[0][0], possible_positions[0][1]] = number\n",
        "                        progress = True\n",
        "\n",
        "        if not progress:\n",
        "            break\n",
        "\n",
        "    end_time = time.time()  # End time measurement\n",
        "    solving_time = end_time - start_time\n",
        "    print(f\"Sudoku solved in {solving_time:.4f} seconds.\")\n",
        "    return board\n",
        "\n",
        "# Example usage:\n",
        "board = np.array([\n",
        "    [5, 3, 0, 0, 7, 0, 0, 0, 0],\n",
        "    [6, 0, 0, 1, 9, 5, 0, 0, 0],\n",
        "    [0, 9, 8, 0, 0, 0, 0, 6, 0],\n",
        "    [8, 0, 0, 0, 6, 0, 0, 0, 3],\n",
        "    [4, 0, 0, 8, 0, 3, 0, 0, 1],\n",
        "    [7, 0, 0, 0, 2, 0, 0, 0, 6],\n",
        "    [0, 6, 0, 0, 0, 0, 2, 8, 0],\n",
        "    [0, 0, 0, 4, 1, 9, 0, 0, 5],\n",
        "    [0, 0, 0, 0, 8, 0, 0, 7, 9]\n",
        "])\n",
        "\n",
        "solved_board = solve_sudoku(board)\n",
        "print(solved_board)\n"
      ],
      "metadata": {
        "id": "R5MiArskPINl",
        "colab": {
          "base_uri": "https://localhost:8080/"
        },
        "outputId": "07fe6283-785f-4bd2-eb84-679b085e647e"
      },
      "execution_count": 9,
      "outputs": [
        {
          "output_type": "stream",
          "name": "stdout",
          "text": [
            "Sudoku solved in 0.0136 seconds.\n",
            "[[5 3 4 6 7 8 9 1 2]\n",
            " [6 7 2 1 9 5 3 4 8]\n",
            " [1 9 8 3 4 2 5 6 7]\n",
            " [8 5 9 7 6 1 4 2 3]\n",
            " [4 2 6 8 5 3 7 9 1]\n",
            " [7 1 3 9 2 4 8 5 6]\n",
            " [9 6 1 5 3 7 2 8 4]\n",
            " [2 8 7 4 1 9 6 3 5]\n",
            " [3 4 5 2 8 6 1 7 9]]\n"
          ]
        }
      ]
    }
  ]
}